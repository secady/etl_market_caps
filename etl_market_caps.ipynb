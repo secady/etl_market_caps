{
 "cells": [
  {
   "cell_type": "markdown",
   "metadata": {},
   "source": [
    "## Project Scenario"
   ]
  },
  {
   "cell_type": "markdown",
   "metadata": {},
   "source": [
    "You have been hired as a data engineer by research organization. Your boss has asked you to create a code that can be used to compile the list of the top 10 largest banks in the world ranked by market capitalization in billion USD. Further, the data needs to be transformed and stored in GBP, EUR and INR as well, in accordance with the exchange rate information that has been made available to you as a CSV file. The processed information table is to be saved locally in a CSV format and as a database table.\n",
    "\n",
    "Your job is to create an automated system to generate this information so that the same can be executed in every financial quarter to prepare the report.\n",
    "\n",
    "Particulars of the code to be made have been shared below.\n",
    "\n",
    "![image](info.jpg)"
   ]
  },
  {
   "cell_type": "markdown",
   "metadata": {},
   "source": [
    "## Directions"
   ]
  },
  {
   "cell_type": "markdown",
   "metadata": {},
   "source": [
    "1. Write a function to extract the tabular information from the given URL under the heading By Market Capitalization, and save it to a data frame.\n",
    "2. Write a function to transform the data frame by adding columns for Market Capitalization in GBP, EUR, and INR, rounded to 2 decimal places, based on the exchange rate information shared as a CSV file.\n",
    "3. Write a function to load the transformed data frame to an output CSV file.\n",
    "4. Write a function to load the transformed data frame to an SQL database server as a table.\n",
    "5. Write a function to run queries on the database table.\n",
    "6. Run the following queries on the database table:\n",
    "    <br>a. Extract the information for the London office, that is Name and MC_GBP_Billion\n",
    "    <br>b. Extract the information for the Berlin office, that is Name and MC_EUR_Billion\n",
    "    <br>c. Extract the information for New Delhi office, that is Name and MC_INR_Billion\n",
    "7. Write a function to log the progress of the code.\n",
    "8. While executing the data initialization commands and function calls, maintain appropriate log entries."
   ]
  },
  {
   "cell_type": "markdown",
   "metadata": {},
   "source": [
    "## Project tasks"
   ]
  },
  {
   "cell_type": "markdown",
   "metadata": {},
   "source": [
    "Task 1:\n",
    "Write a function log_progress() to log the progress of the code at different stages in a file code_log.txt. Use the list of log points provided to create log entries as every stage of the code.\n",
    "\n",
    "Task 2:\n",
    "Extract the tabular information from the given URL under the heading 'By market capitalization' and save it to a dataframe.\n",
    "<br>a. Inspect the webpage and identify the position and pattern of the tabular information in the HTML code\n",
    "<br>b. Write the code for a function extract() to perform the required data extraction.\n",
    "<br>c. Execute a function call to extract() to verify the output.\n",
    "\n",
    "Task 3:\n",
    "Transform the dataframe by adding columns for Market Capitalization in GBP, EUR and INR, rounded to 2 decimal places, based on the exchange rate information shared as <br>a CSV file.\n",
    "<br>a. Write the code for a function transform() to perform the said task.\n",
    "<br>b. Execute a function call to transform() and verify the output.\n",
    "\n",
    "Task 4:\n",
    "Load the transformed dataframe to an output CSV file. Write a function load_to_csv(), execute a function call and verify the output.\n",
    "\n",
    "Task 5:\n",
    "Load the transformed dataframe to an SQL database server as a table. Write a function load_to_db(), execute a function call and verify the output.\n",
    "\n",
    "Task 6:\n",
    "Run queries on the database table. Write a function load_from_db(), execute a given set of queries and verify the output.\n",
    "\n",
    "Task 7:\n",
    "Verify that the log entries have been completed at all stages by checking the contents of the file code_log.txt."
   ]
  },
  {
   "cell_type": "code",
   "execution_count": null,
   "metadata": {},
   "outputs": [],
   "source": []
  },
  {
   "cell_type": "markdown",
   "metadata": {},
   "source": [
    "## Let's start!"
   ]
  },
  {
   "cell_type": "code",
   "execution_count": 1,
   "metadata": {},
   "outputs": [],
   "source": [
    "from datetime import  datetime\n",
    "import pandas as pd\n",
    "import sqlite3"
   ]
  },
  {
   "cell_type": "markdown",
   "metadata": {},
   "source": [
    "Define variables"
   ]
  },
  {
   "cell_type": "code",
   "execution_count": 2,
   "metadata": {},
   "outputs": [],
   "source": [
    "logfile=\"code_log.txt\"\n",
    "url = \"https://web.archive.org/web/20230908091635/https://en.wikipedia.org/wiki/List_of_largest_banks\"\n",
    "csv_file = \"./Largest_banks_data.csv\"\n",
    "db_name = \"Banks.db\"\n",
    "table_name = \"Largest_banks\""
   ]
  },
  {
   "cell_type": "markdown",
   "metadata": {},
   "source": [
    "Task 1:\n",
    "Write a function log_progress() to log the progress of the code at different stages in a file code_log.txt. Use the list of log points provided to create log entries as every stage of the code."
   ]
  },
  {
   "cell_type": "code",
   "execution_count": 3,
   "metadata": {},
   "outputs": [],
   "source": [
    "def log_progress(message, logfile=logfile):\n",
    "    now = datetime.now()\n",
    "    timestamp = now.strftime(\"%Y-%m-%d %H:%M:%S\")\n",
    "    with open(logfile, \"a\") as f:\n",
    "        f.write(timestamp + \", \" + message + \"\\n\")"
   ]
  },
  {
   "cell_type": "code",
   "execution_count": null,
   "metadata": {},
   "outputs": [],
   "source": []
  },
  {
   "cell_type": "markdown",
   "metadata": {},
   "source": [
    "Task 2:\n",
    "Extract the tabular information from the given URL under the heading 'By market capitalization' and save it to a dataframe.\n",
    "<br>a. Inspect the webpage and identify the position and pattern of the tabular information in the HTML code\n",
    "<br>b. Write the code for a function extract() to perform the required data extraction.\n",
    "<br>c. Execute a function call to extract() to verify the output."
   ]
  },
  {
   "cell_type": "code",
   "execution_count": 4,
   "metadata": {},
   "outputs": [
    {
     "data": {
      "text/html": [
       "<div>\n",
       "<style scoped>\n",
       "    .dataframe tbody tr th:only-of-type {\n",
       "        vertical-align: middle;\n",
       "    }\n",
       "\n",
       "    .dataframe tbody tr th {\n",
       "        vertical-align: top;\n",
       "    }\n",
       "\n",
       "    .dataframe thead th {\n",
       "        text-align: right;\n",
       "    }\n",
       "</style>\n",
       "<table border=\"1\" class=\"dataframe\">\n",
       "  <thead>\n",
       "    <tr style=\"text-align: right;\">\n",
       "      <th></th>\n",
       "      <th>Name</th>\n",
       "      <th>MC_USD_Billion</th>\n",
       "    </tr>\n",
       "  </thead>\n",
       "  <tbody>\n",
       "    <tr>\n",
       "      <th>0</th>\n",
       "      <td>JPMorgan Chase</td>\n",
       "      <td>432.92</td>\n",
       "    </tr>\n",
       "    <tr>\n",
       "      <th>1</th>\n",
       "      <td>Bank of America</td>\n",
       "      <td>231.52</td>\n",
       "    </tr>\n",
       "    <tr>\n",
       "      <th>2</th>\n",
       "      <td>Industrial and Commercial Bank of China</td>\n",
       "      <td>194.56</td>\n",
       "    </tr>\n",
       "    <tr>\n",
       "      <th>3</th>\n",
       "      <td>Agricultural Bank of China</td>\n",
       "      <td>160.68</td>\n",
       "    </tr>\n",
       "    <tr>\n",
       "      <th>4</th>\n",
       "      <td>HDFC Bank</td>\n",
       "      <td>157.91</td>\n",
       "    </tr>\n",
       "    <tr>\n",
       "      <th>5</th>\n",
       "      <td>Wells Fargo</td>\n",
       "      <td>155.87</td>\n",
       "    </tr>\n",
       "    <tr>\n",
       "      <th>6</th>\n",
       "      <td>HSBC Holdings PLC</td>\n",
       "      <td>148.90</td>\n",
       "    </tr>\n",
       "    <tr>\n",
       "      <th>7</th>\n",
       "      <td>Morgan Stanley</td>\n",
       "      <td>140.83</td>\n",
       "    </tr>\n",
       "    <tr>\n",
       "      <th>8</th>\n",
       "      <td>China Construction Bank</td>\n",
       "      <td>139.82</td>\n",
       "    </tr>\n",
       "    <tr>\n",
       "      <th>9</th>\n",
       "      <td>Bank of China</td>\n",
       "      <td>136.81</td>\n",
       "    </tr>\n",
       "  </tbody>\n",
       "</table>\n",
       "</div>"
      ],
      "text/plain": [
       "                                      Name  MC_USD_Billion\n",
       "0                           JPMorgan Chase          432.92\n",
       "1                          Bank of America          231.52\n",
       "2  Industrial and Commercial Bank of China          194.56\n",
       "3               Agricultural Bank of China          160.68\n",
       "4                                HDFC Bank          157.91\n",
       "5                              Wells Fargo          155.87\n",
       "6                        HSBC Holdings PLC          148.90\n",
       "7                           Morgan Stanley          140.83\n",
       "8                  China Construction Bank          139.82\n",
       "9                            Bank of China          136.81"
      ]
     },
     "execution_count": 4,
     "metadata": {},
     "output_type": "execute_result"
    }
   ],
   "source": [
    "def extract(url):\n",
    "    df = pd.read_html(url)[0]\n",
    "    df = df.rename({\"Bank name\": \"Name\", \"Market cap (US$ billion)\": \"MC_USD_Billion\"}, axis=1)\n",
    "    df = df.drop(\"Rank\", axis=1)\n",
    "    log_progress(message=\"Data has been extracted\")\n",
    "    return df\n",
    "\n",
    "market_caps_table = extract(url=url)\n",
    "market_caps_table"
   ]
  },
  {
   "cell_type": "code",
   "execution_count": null,
   "metadata": {},
   "outputs": [],
   "source": []
  },
  {
   "cell_type": "markdown",
   "metadata": {},
   "source": [
    "Task 3:\n",
    "Transform the dataframe by adding columns for Market Capitalization in GBP, EUR and INR, rounded to 2 decimal places, based on the exchange rate information shared as <br>a CSV file.\n",
    "<br>a. Write the code for a function transform() to perform the said task.\n",
    "<br>b. Execute a function call to transform() and verify the output."
   ]
  },
  {
   "cell_type": "code",
   "execution_count": 5,
   "metadata": {},
   "outputs": [
    {
     "data": {
      "text/html": [
       "<div>\n",
       "<style scoped>\n",
       "    .dataframe tbody tr th:only-of-type {\n",
       "        vertical-align: middle;\n",
       "    }\n",
       "\n",
       "    .dataframe tbody tr th {\n",
       "        vertical-align: top;\n",
       "    }\n",
       "\n",
       "    .dataframe thead th {\n",
       "        text-align: right;\n",
       "    }\n",
       "</style>\n",
       "<table border=\"1\" class=\"dataframe\">\n",
       "  <thead>\n",
       "    <tr style=\"text-align: right;\">\n",
       "      <th></th>\n",
       "      <th>Name</th>\n",
       "      <th>MC_USD_Billion</th>\n",
       "      <th>MC_GBP_Billion</th>\n",
       "      <th>MC_EUR_Billion</th>\n",
       "      <th>MC_INR_Billion</th>\n",
       "    </tr>\n",
       "  </thead>\n",
       "  <tbody>\n",
       "    <tr>\n",
       "      <th>0</th>\n",
       "      <td>JPMorgan Chase</td>\n",
       "      <td>432.92</td>\n",
       "      <td>346.34</td>\n",
       "      <td>402.62</td>\n",
       "      <td>35910.71</td>\n",
       "    </tr>\n",
       "    <tr>\n",
       "      <th>1</th>\n",
       "      <td>Bank of America</td>\n",
       "      <td>231.52</td>\n",
       "      <td>185.22</td>\n",
       "      <td>215.31</td>\n",
       "      <td>19204.58</td>\n",
       "    </tr>\n",
       "    <tr>\n",
       "      <th>2</th>\n",
       "      <td>Industrial and Commercial Bank of China</td>\n",
       "      <td>194.56</td>\n",
       "      <td>155.65</td>\n",
       "      <td>180.94</td>\n",
       "      <td>16138.75</td>\n",
       "    </tr>\n",
       "    <tr>\n",
       "      <th>3</th>\n",
       "      <td>Agricultural Bank of China</td>\n",
       "      <td>160.68</td>\n",
       "      <td>128.54</td>\n",
       "      <td>149.43</td>\n",
       "      <td>13328.41</td>\n",
       "    </tr>\n",
       "    <tr>\n",
       "      <th>4</th>\n",
       "      <td>HDFC Bank</td>\n",
       "      <td>157.91</td>\n",
       "      <td>126.33</td>\n",
       "      <td>146.86</td>\n",
       "      <td>13098.63</td>\n",
       "    </tr>\n",
       "    <tr>\n",
       "      <th>5</th>\n",
       "      <td>Wells Fargo</td>\n",
       "      <td>155.87</td>\n",
       "      <td>124.70</td>\n",
       "      <td>144.96</td>\n",
       "      <td>12929.42</td>\n",
       "    </tr>\n",
       "    <tr>\n",
       "      <th>6</th>\n",
       "      <td>HSBC Holdings PLC</td>\n",
       "      <td>148.90</td>\n",
       "      <td>119.12</td>\n",
       "      <td>138.48</td>\n",
       "      <td>12351.26</td>\n",
       "    </tr>\n",
       "    <tr>\n",
       "      <th>7</th>\n",
       "      <td>Morgan Stanley</td>\n",
       "      <td>140.83</td>\n",
       "      <td>112.66</td>\n",
       "      <td>130.97</td>\n",
       "      <td>11681.85</td>\n",
       "    </tr>\n",
       "    <tr>\n",
       "      <th>8</th>\n",
       "      <td>China Construction Bank</td>\n",
       "      <td>139.82</td>\n",
       "      <td>111.86</td>\n",
       "      <td>130.03</td>\n",
       "      <td>11598.07</td>\n",
       "    </tr>\n",
       "    <tr>\n",
       "      <th>9</th>\n",
       "      <td>Bank of China</td>\n",
       "      <td>136.81</td>\n",
       "      <td>109.45</td>\n",
       "      <td>127.23</td>\n",
       "      <td>11348.39</td>\n",
       "    </tr>\n",
       "  </tbody>\n",
       "</table>\n",
       "</div>"
      ],
      "text/plain": [
       "                                      Name  MC_USD_Billion  MC_GBP_Billion  \\\n",
       "0                           JPMorgan Chase          432.92          346.34   \n",
       "1                          Bank of America          231.52          185.22   \n",
       "2  Industrial and Commercial Bank of China          194.56          155.65   \n",
       "3               Agricultural Bank of China          160.68          128.54   \n",
       "4                                HDFC Bank          157.91          126.33   \n",
       "5                              Wells Fargo          155.87          124.70   \n",
       "6                        HSBC Holdings PLC          148.90          119.12   \n",
       "7                           Morgan Stanley          140.83          112.66   \n",
       "8                  China Construction Bank          139.82          111.86   \n",
       "9                            Bank of China          136.81          109.45   \n",
       "\n",
       "   MC_EUR_Billion  MC_INR_Billion  \n",
       "0          402.62        35910.71  \n",
       "1          215.31        19204.58  \n",
       "2          180.94        16138.75  \n",
       "3          149.43        13328.41  \n",
       "4          146.86        13098.63  \n",
       "5          144.96        12929.42  \n",
       "6          138.48        12351.26  \n",
       "7          130.97        11681.85  \n",
       "8          130.03        11598.07  \n",
       "9          127.23        11348.39  "
      ]
     },
     "execution_count": 5,
     "metadata": {},
     "output_type": "execute_result"
    }
   ],
   "source": [
    "def transform(df):\n",
    "    exchange_rate = pd.read_csv(\"https://cf-courses-data.s3.us.cloud-object-storage.appdomain.cloud/IBMSkillsNetwork-PY0221EN-Coursera/labs/v2/exchange_rate.csv\")\n",
    "    df[\"MC_USD_Billion\"] = df[\"MC_USD_Billion\"].transform(lambda x: float(x))\n",
    "    df[\"MC_GBP_Billion\"] = df[\"MC_USD_Billion\"].transform(lambda x: round(x*exchange_rate.loc[1, \"Rate\"], 2))\n",
    "    df[\"MC_EUR_Billion\"] = df[\"MC_USD_Billion\"].transform(lambda x: round(x*exchange_rate.loc[0, \"Rate\"], 2))\n",
    "    df[\"MC_INR_Billion\"] = df[\"MC_USD_Billion\"].transform(lambda x: round(x*exchange_rate.loc[2, \"Rate\"], 2))\n",
    "    log_progress(message=\"Data has been transformed\")\n",
    "    return df\n",
    "\n",
    "market_caps_table = transform(df=market_caps_table)\n",
    "market_caps_table"
   ]
  },
  {
   "cell_type": "code",
   "execution_count": null,
   "metadata": {},
   "outputs": [],
   "source": []
  },
  {
   "cell_type": "markdown",
   "metadata": {},
   "source": [
    "Task 4:\n",
    "Load the transformed dataframe to an output CSV file. Write a function load_to_csv(), execute a function call and verify the output."
   ]
  },
  {
   "cell_type": "code",
   "execution_count": 6,
   "metadata": {},
   "outputs": [],
   "source": [
    "def load_to_csv(df, csv_file):\n",
    "    df.to_csv(csv_file)\n",
    "    log_progress(message=\"Data has been loaded to CSV\")\n",
    "\n",
    "load_to_csv(df=market_caps_table, csv_file=csv_file)"
   ]
  },
  {
   "cell_type": "code",
   "execution_count": null,
   "metadata": {},
   "outputs": [],
   "source": []
  },
  {
   "cell_type": "markdown",
   "metadata": {},
   "source": [
    "Task 5:\n",
    "Load the transformed dataframe to an SQL database server as a table. Write a function load_to_db(), execute a function call and verify the output."
   ]
  },
  {
   "cell_type": "code",
   "execution_count": 7,
   "metadata": {},
   "outputs": [],
   "source": [
    "def load_to_db(df, db_name, table_name):\n",
    "    conn = sqlite3.connect(db_name)\n",
    "    df.to_sql(name=table_name, con=conn, if_exists='replace', index=False)\n",
    "    conn.close()\n",
    "    log_progress(message=\"Data has been loaded to DB\")\n",
    "\n",
    "load_to_db(df=market_caps_table, db_name=db_name, table_name=table_name)"
   ]
  },
  {
   "cell_type": "code",
   "execution_count": null,
   "metadata": {},
   "outputs": [],
   "source": []
  },
  {
   "cell_type": "markdown",
   "metadata": {},
   "source": [
    "Task 6:\n",
    "Run queries on the database table. Write a function load_from_db(), execute a given set of queries and verify the output."
   ]
  },
  {
   "cell_type": "code",
   "execution_count": 8,
   "metadata": {},
   "outputs": [
    {
     "data": {
      "text/html": [
       "<div>\n",
       "<style scoped>\n",
       "    .dataframe tbody tr th:only-of-type {\n",
       "        vertical-align: middle;\n",
       "    }\n",
       "\n",
       "    .dataframe tbody tr th {\n",
       "        vertical-align: top;\n",
       "    }\n",
       "\n",
       "    .dataframe thead th {\n",
       "        text-align: right;\n",
       "    }\n",
       "</style>\n",
       "<table border=\"1\" class=\"dataframe\">\n",
       "  <thead>\n",
       "    <tr style=\"text-align: right;\">\n",
       "      <th></th>\n",
       "      <th>Name</th>\n",
       "      <th>MC_USD_Billion</th>\n",
       "      <th>MC_GBP_Billion</th>\n",
       "      <th>MC_EUR_Billion</th>\n",
       "      <th>MC_INR_Billion</th>\n",
       "    </tr>\n",
       "  </thead>\n",
       "  <tbody>\n",
       "    <tr>\n",
       "      <th>0</th>\n",
       "      <td>JPMorgan Chase</td>\n",
       "      <td>432.92</td>\n",
       "      <td>346.34</td>\n",
       "      <td>402.62</td>\n",
       "      <td>35910.71</td>\n",
       "    </tr>\n",
       "    <tr>\n",
       "      <th>1</th>\n",
       "      <td>Bank of America</td>\n",
       "      <td>231.52</td>\n",
       "      <td>185.22</td>\n",
       "      <td>215.31</td>\n",
       "      <td>19204.58</td>\n",
       "    </tr>\n",
       "    <tr>\n",
       "      <th>2</th>\n",
       "      <td>Industrial and Commercial Bank of China</td>\n",
       "      <td>194.56</td>\n",
       "      <td>155.65</td>\n",
       "      <td>180.94</td>\n",
       "      <td>16138.75</td>\n",
       "    </tr>\n",
       "    <tr>\n",
       "      <th>3</th>\n",
       "      <td>Agricultural Bank of China</td>\n",
       "      <td>160.68</td>\n",
       "      <td>128.54</td>\n",
       "      <td>149.43</td>\n",
       "      <td>13328.41</td>\n",
       "    </tr>\n",
       "    <tr>\n",
       "      <th>4</th>\n",
       "      <td>HDFC Bank</td>\n",
       "      <td>157.91</td>\n",
       "      <td>126.33</td>\n",
       "      <td>146.86</td>\n",
       "      <td>13098.63</td>\n",
       "    </tr>\n",
       "    <tr>\n",
       "      <th>5</th>\n",
       "      <td>Wells Fargo</td>\n",
       "      <td>155.87</td>\n",
       "      <td>124.70</td>\n",
       "      <td>144.96</td>\n",
       "      <td>12929.42</td>\n",
       "    </tr>\n",
       "    <tr>\n",
       "      <th>6</th>\n",
       "      <td>HSBC Holdings PLC</td>\n",
       "      <td>148.90</td>\n",
       "      <td>119.12</td>\n",
       "      <td>138.48</td>\n",
       "      <td>12351.26</td>\n",
       "    </tr>\n",
       "    <tr>\n",
       "      <th>7</th>\n",
       "      <td>Morgan Stanley</td>\n",
       "      <td>140.83</td>\n",
       "      <td>112.66</td>\n",
       "      <td>130.97</td>\n",
       "      <td>11681.85</td>\n",
       "    </tr>\n",
       "    <tr>\n",
       "      <th>8</th>\n",
       "      <td>China Construction Bank</td>\n",
       "      <td>139.82</td>\n",
       "      <td>111.86</td>\n",
       "      <td>130.03</td>\n",
       "      <td>11598.07</td>\n",
       "    </tr>\n",
       "    <tr>\n",
       "      <th>9</th>\n",
       "      <td>Bank of China</td>\n",
       "      <td>136.81</td>\n",
       "      <td>109.45</td>\n",
       "      <td>127.23</td>\n",
       "      <td>11348.39</td>\n",
       "    </tr>\n",
       "  </tbody>\n",
       "</table>\n",
       "</div>"
      ],
      "text/plain": [
       "                                      Name  MC_USD_Billion  MC_GBP_Billion  \\\n",
       "0                           JPMorgan Chase          432.92          346.34   \n",
       "1                          Bank of America          231.52          185.22   \n",
       "2  Industrial and Commercial Bank of China          194.56          155.65   \n",
       "3               Agricultural Bank of China          160.68          128.54   \n",
       "4                                HDFC Bank          157.91          126.33   \n",
       "5                              Wells Fargo          155.87          124.70   \n",
       "6                        HSBC Holdings PLC          148.90          119.12   \n",
       "7                           Morgan Stanley          140.83          112.66   \n",
       "8                  China Construction Bank          139.82          111.86   \n",
       "9                            Bank of China          136.81          109.45   \n",
       "\n",
       "   MC_EUR_Billion  MC_INR_Billion  \n",
       "0          402.62        35910.71  \n",
       "1          215.31        19204.58  \n",
       "2          180.94        16138.75  \n",
       "3          149.43        13328.41  \n",
       "4          146.86        13098.63  \n",
       "5          144.96        12929.42  \n",
       "6          138.48        12351.26  \n",
       "7          130.97        11681.85  \n",
       "8          130.03        11598.07  \n",
       "9          127.23        11348.39  "
      ]
     },
     "execution_count": 8,
     "metadata": {},
     "output_type": "execute_result"
    }
   ],
   "source": [
    "def load_from_db(df, db_name, query):\n",
    "    conn = sqlite3.connect(db_name)\n",
    "    db_table = pd.read_sql(sql=query, con=conn)\n",
    "    conn.close()\n",
    "    log_progress(message=\"Data on DB has been checked\")\n",
    "    return db_table\n",
    "\n",
    "load_from_db(df=market_caps_table, db_name=db_name, query=f\"SELECT * from {table_name}\")"
   ]
  },
  {
   "cell_type": "code",
   "execution_count": null,
   "metadata": {},
   "outputs": [],
   "source": []
  },
  {
   "cell_type": "markdown",
   "metadata": {},
   "source": [
    "Task 7:\n",
    "Verify that the log entries have been completed at all stages by checking the contents of the file code_log.txt."
   ]
  },
  {
   "cell_type": "code",
   "execution_count": 9,
   "metadata": {},
   "outputs": [
    {
     "name": "stdout",
     "output_type": "stream",
     "text": [
      "2024-02-01 19:27:33, Data has been extracted\n",
      "\n",
      "2024-02-01 19:27:34, Data has been transformed\n",
      "\n",
      "2024-02-01 19:27:34, Data has been loaded to CSV\n",
      "\n",
      "2024-02-01 19:27:34, Data has been loaded to DB\n",
      "\n",
      "2024-02-01 19:27:34, Data on DB has been checked\n",
      "\n"
     ]
    }
   ],
   "source": [
    "with open(logfile, \"r\") as f:\n",
    "    all_logs = f.readlines()\n",
    "    for log in all_logs:\n",
    "        print(log)"
   ]
  }
 ],
 "metadata": {
  "kernelspec": {
   "display_name": "scrap_env",
   "language": "python",
   "name": "python3"
  },
  "language_info": {
   "codemirror_mode": {
    "name": "ipython",
    "version": 3
   },
   "file_extension": ".py",
   "mimetype": "text/x-python",
   "name": "python",
   "nbconvert_exporter": "python",
   "pygments_lexer": "ipython3",
   "version": "3.10.12"
  }
 },
 "nbformat": 4,
 "nbformat_minor": 2
}
