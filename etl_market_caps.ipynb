{
 "cells": [
  {
   "cell_type": "markdown",
   "metadata": {},
   "source": [
    "## Project Scenario"
   ]
  },
  {
   "cell_type": "markdown",
   "metadata": {},
   "source": [
    "You have been hired as a data engineer by research organization. Your boss has asked you to create a code that can be used to compile the list of the top 10 largest banks in the world ranked by market capitalization in billion USD. Further, the data needs to be transformed and stored in GBP, EUR and INR as well, in accordance with the exchange rate information that has been made available to you as a CSV file. The processed information table is to be saved locally in a CSV format and as a database table.\n",
    "\n",
    "Your job is to create an automated system to generate this information so that the same can be executed in every financial quarter to prepare the report.\n",
    "\n",
    "Particulars of the code to be made have been shared below.\n",
    "\n",
    "![image](info.jpg)"
   ]
  },
  {
   "cell_type": "markdown",
   "metadata": {},
   "source": [
    "## Directions"
   ]
  },
  {
   "cell_type": "markdown",
   "metadata": {},
   "source": [
    "1. Write a function to extract the tabular information from the given URL under the heading By Market Capitalization, and save it to a data frame.\n",
    "2. Write a function to transform the data frame by adding columns for Market Capitalization in GBP, EUR, and INR, rounded to 2 decimal places, based on the exchange rate information shared as a CSV file.\n",
    "3. Write a function to load the transformed data frame to an output CSV file.\n",
    "4. Write a function to load the transformed data frame to an SQL database server as a table.\n",
    "5. Write a function to run queries on the database table.\n",
    "6. Run the following queries on the database table:\n",
    "    <br>a. Extract the information for the London office, that is Name and MC_GBP_Billion\n",
    "    <br>b. Extract the information for the Berlin office, that is Name and MC_EUR_Billion\n",
    "    <br>c. Extract the information for New Delhi office, that is Name and MC_INR_Billion\n",
    "7. Write a function to log the progress of the code.\n",
    "8. While executing the data initialization commands and function calls, maintain appropriate log entries."
   ]
  },
  {
   "cell_type": "markdown",
   "metadata": {},
   "source": [
    "## Project tasks"
   ]
  },
  {
   "cell_type": "markdown",
   "metadata": {},
   "source": [
    "Task 1:\n",
    "Write a function log_progress() to log the progress of the code at different stages in a file code_log.txt. Use the list of log points provided to create log entries as every stage of the code.\n",
    "\n",
    "Task 2:\n",
    "Extract the tabular information from the given URL under the heading 'By market capitalization' and save it to a dataframe.\n",
    "<br>a. Inspect the webpage and identify the position and pattern of the tabular information in the HTML code\n",
    "<br>b. Write the code for a function extract() to perform the required data extraction.\n",
    "<br>c. Execute a function call to extract() to verify the output.\n",
    "\n",
    "Task 3:\n",
    "Transform the dataframe by adding columns for Market Capitalization in GBP, EUR and INR, rounded to 2 decimal places, based on the exchange rate information shared as <br>a CSV file.\n",
    "<br>a. Write the code for a function transform() to perform the said task.\n",
    "<br>b. Execute a function call to transform() and verify the output.\n",
    "\n",
    "Task 4:\n",
    "Load the transformed dataframe to an output CSV file. Write a function load_to_csv(), execute a function call and verify the output.\n",
    "\n",
    "Task 5:\n",
    "Load the transformed dataframe to an SQL database server as a table. Write a function load_to_db(), execute a function call and verify the output.\n",
    "\n",
    "Task 6:\n",
    "Run queries on the database table. Write a function load_from_db(), execute a given set of queries and verify the output.\n",
    "\n",
    "Task 7:\n",
    "Verify that the log entries have been completed at all stages by checking the contents of the file code_log.txt."
   ]
  },
  {
   "cell_type": "code",
   "execution_count": null,
   "metadata": {},
   "outputs": [],
   "source": []
  },
  {
   "cell_type": "markdown",
   "metadata": {},
   "source": [
    "## Let's start!"
   ]
  },
  {
   "cell_type": "code",
   "execution_count": null,
   "metadata": {},
   "outputs": [],
   "source": [
    "from datetime import  datetime\n",
    "import pandas as pd\n",
    "import sqlite3\n",
    "import requests\n",
    "from bs4 import BeautifulSoup"
   ]
  },
  {
   "cell_type": "markdown",
   "metadata": {},
   "source": [
    "Define variables"
   ]
  },
  {
   "cell_type": "code",
   "execution_count": null,
   "metadata": {},
   "outputs": [],
   "source": [
    "logfile=\"code_log.txt\"\n",
    "url = \"https://web.archive.org/web/20230908091635/https://en.wikipedia.org/wiki/List_of_largest_banks\"\n",
    "csv_file = \"./Largest_banks_data.csv\"\n",
    "db_name = \"Banks.db\"\n",
    "table_name = \"Largest_banks\""
   ]
  },
  {
   "cell_type": "markdown",
   "metadata": {},
   "source": [
    "Task 1:\n",
    "Write a function log_progress() to log the progress of the code at different stages in a file code_log.txt. Use the list of log points provided to create log entries as every stage of the code."
   ]
  },
  {
   "cell_type": "code",
   "execution_count": null,
   "metadata": {},
   "outputs": [],
   "source": [
    "def log_progress(message, logfile=logfile):\n",
    "    now = datetime.now()\n",
    "    timestamp = now.strftime(\"%Y-%m-%d %H:%M:%S\")\n",
    "    with open(logfile, \"a\") as f:\n",
    "        f.write(timestamp + \", \" + message + \"\\n\")"
   ]
  },
  {
   "cell_type": "code",
   "execution_count": null,
   "metadata": {},
   "outputs": [],
   "source": []
  },
  {
   "cell_type": "markdown",
   "metadata": {},
   "source": [
    "Task 2:\n",
    "Extract the tabular information from the given URL under the heading 'By market capitalization' and save it to a dataframe.\n",
    "<br>a. Inspect the webpage and identify the position and pattern of the tabular information in the HTML code\n",
    "<br>b. Write the code for a function extract() to perform the required data extraction.\n",
    "<br>c. Execute a function call to extract() to verify the output."
   ]
  },
  {
   "cell_type": "code",
   "execution_count": null,
   "metadata": {},
   "outputs": [],
   "source": [
    "def extract(url):\n",
    "    df = pd.read_html(url)[0]\n",
    "    df = df.rename({\"Bank name\": \"Name\", \"Market cap (US$ billion)\": \"MC_USD_Billion\"}, axis=1)\n",
    "    df = df.drop(\"Rank\", axis=1)\n",
    "    log_progress(message=\"Data has been extracted\")\n",
    "    return df\n",
    "\n",
    "\n",
    "def extract_v2(url):\n",
    "    html_page = requests.get(url=url).text\n",
    "    data = BeautifulSoup(html_page, \"html.parser\")\n",
    "    tables = data.find_all(\"tbody\")\n",
    "    rows = tables[0].find_all(\"tr\")\n",
    "    df = pd.DataFrame(columns=[\"Name\", \"MC_USD_Billion\"])\n",
    "    for row in rows:\n",
    "        col = row.find_all(\"td\")\n",
    "        if len(col) != 0:\n",
    "            data_dict = {\"Name\": col[1].find_all(\"a\")[1],\n",
    "                        \"MC_USD_Billion\": col[2].text.split(\"\\n\")[0]}\n",
    "            # data_dict = {\"Name\": col[1].find_all(\"a\")[1],\n",
    "            # \"MC_USD_Billion\": float(col[2].contents[0][:-1])}\n",
    "            df1 = pd.DataFrame(data_dict, index=[0])\n",
    "            df = pd.concat([df,df1], ignore_index=True)\n",
    "    log_progress(message=\"Data has been extracted\")\n",
    "    return df\n",
    "\n",
    "\n",
    "market_caps_table = extract_v2(url=url)\n",
    "market_caps_table"
   ]
  },
  {
   "cell_type": "code",
   "execution_count": null,
   "metadata": {},
   "outputs": [],
   "source": [
    "market_caps_table.info()"
   ]
  },
  {
   "cell_type": "code",
   "execution_count": null,
   "metadata": {},
   "outputs": [],
   "source": []
  },
  {
   "cell_type": "markdown",
   "metadata": {},
   "source": [
    "Task 3:\n",
    "Transform the dataframe by adding columns for Market Capitalization in GBP, EUR and INR, rounded to 2 decimal places, based on the exchange rate information shared as <br>a CSV file.\n",
    "<br>a. Write the code for a function transform() to perform the said task.\n",
    "<br>b. Execute a function call to transform() and verify the output."
   ]
  },
  {
   "cell_type": "code",
   "execution_count": null,
   "metadata": {},
   "outputs": [],
   "source": [
    "def transform(df):\n",
    "    exchange_rate = pd.read_csv(\"https://cf-courses-data.s3.us.cloud-object-storage.appdomain.cloud/IBMSkillsNetwork-PY0221EN-Coursera/labs/v2/exchange_rate.csv\")\n",
    "    df[\"MC_USD_Billion\"] = df[\"MC_USD_Billion\"].transform(lambda x: float(x))\n",
    "    df[\"MC_GBP_Billion\"] = df[\"MC_USD_Billion\"].transform(lambda x: round(x*exchange_rate.loc[1, \"Rate\"], 2))\n",
    "    df[\"MC_EUR_Billion\"] = df[\"MC_USD_Billion\"].transform(lambda x: round(x*exchange_rate.loc[0, \"Rate\"], 2))\n",
    "    df[\"MC_INR_Billion\"] = df[\"MC_USD_Billion\"].transform(lambda x: round(x*exchange_rate.loc[2, \"Rate\"], 2))\n",
    "    log_progress(message=\"Data has been transformed\")\n",
    "    return df\n",
    "\n",
    "market_caps_table = transform(df=market_caps_table)\n",
    "market_caps_table"
   ]
  },
  {
   "cell_type": "code",
   "execution_count": null,
   "metadata": {},
   "outputs": [],
   "source": []
  },
  {
   "cell_type": "markdown",
   "metadata": {},
   "source": [
    "Task 4:\n",
    "Load the transformed dataframe to an output CSV file. Write a function load_to_csv(), execute a function call and verify the output."
   ]
  },
  {
   "cell_type": "code",
   "execution_count": null,
   "metadata": {},
   "outputs": [],
   "source": [
    "def load_to_csv(df, csv_file):\n",
    "    df.to_csv(csv_file)\n",
    "    log_progress(message=\"Data has been loaded to CSV\")\n",
    "\n",
    "load_to_csv(df=market_caps_table, csv_file=csv_file)"
   ]
  },
  {
   "cell_type": "code",
   "execution_count": null,
   "metadata": {},
   "outputs": [],
   "source": []
  },
  {
   "cell_type": "markdown",
   "metadata": {},
   "source": [
    "Task 5:\n",
    "Load the transformed dataframe to an SQL database server as a table. Write a function load_to_db(), execute a function call and verify the output."
   ]
  },
  {
   "cell_type": "code",
   "execution_count": null,
   "metadata": {},
   "outputs": [],
   "source": [
    "def load_to_db(df, db_name, table_name):\n",
    "    conn = sqlite3.connect(db_name)\n",
    "    df.to_sql(name=table_name, con=conn, if_exists='replace', index=False)\n",
    "    conn.close()\n",
    "    log_progress(message=\"Data has been loaded to DB\")\n",
    "\n",
    "load_to_db(df=market_caps_table, db_name=db_name, table_name=table_name)"
   ]
  },
  {
   "cell_type": "code",
   "execution_count": null,
   "metadata": {},
   "outputs": [],
   "source": []
  },
  {
   "cell_type": "markdown",
   "metadata": {},
   "source": [
    "Task 6:\n",
    "Run queries on the database table. Write a function load_from_db(), execute a given set of queries and verify the output."
   ]
  },
  {
   "cell_type": "code",
   "execution_count": null,
   "metadata": {},
   "outputs": [],
   "source": [
    "def load_from_db(df, db_name, query):\n",
    "    conn = sqlite3.connect(db_name)\n",
    "    db_table = pd.read_sql(sql=query, con=conn)\n",
    "    conn.close()\n",
    "    log_progress(message=\"Data on DB has been checked\")\n",
    "    return db_table\n",
    "\n",
    "load_from_db(df=market_caps_table, db_name=db_name, query=f\"SELECT * from {table_name}\")"
   ]
  },
  {
   "cell_type": "code",
   "execution_count": null,
   "metadata": {},
   "outputs": [],
   "source": [
    "load_from_db(df=market_caps_table, db_name=db_name, query=f\"SELECT AVG(MC_GBP_Billion) from {table_name}\")"
   ]
  },
  {
   "cell_type": "code",
   "execution_count": null,
   "metadata": {},
   "outputs": [],
   "source": []
  },
  {
   "cell_type": "markdown",
   "metadata": {},
   "source": [
    "Task 7:\n",
    "Verify that the log entries have been completed at all stages by checking the contents of the file code_log.txt."
   ]
  },
  {
   "cell_type": "code",
   "execution_count": null,
   "metadata": {},
   "outputs": [],
   "source": [
    "with open(logfile, \"r\") as f:\n",
    "    all_logs = f.readlines()\n",
    "    for log in all_logs:\n",
    "        print(log)"
   ]
  }
 ],
 "metadata": {
  "kernelspec": {
   "display_name": "scrap_env",
   "language": "python",
   "name": "python3"
  },
  "language_info": {
   "codemirror_mode": {
    "name": "ipython",
    "version": 3
   },
   "file_extension": ".py",
   "mimetype": "text/x-python",
   "name": "python",
   "nbconvert_exporter": "python",
   "pygments_lexer": "ipython3",
   "version": "3.10.12"
  }
 },
 "nbformat": 4,
 "nbformat_minor": 2
}
